{
 "cells": [
  {
   "cell_type": "code",
   "execution_count": null,
   "metadata": {},
   "outputs": [],
   "source": [
    "import requests\n",
    "from bs4 import BeautifulSoup as bs\n",
    "from urllib.parse import urlparse\n",
    "import os\n",
    "import openai\n",
    "from dotenv import load_dotenv\n",
    "from random import sample\n",
    "load_dotenv()\n",
    "\n",
    "openai.api_key = os.getenv('OPENAI_API_KEY')\n",
    "\n",
    "print(openai.api_key)"
   ]
  },
  {
   "cell_type": "code",
   "execution_count": 51,
   "metadata": {},
   "outputs": [],
   "source": [
    "def extract_domain(url):\n",
    "    parsed_url = urlparse(url)\n",
    "    domain_parts = parsed_url.netloc.split('.')\n",
    "    subdomain = domain_parts[-3] if len(domain_parts) >= 3 else ''\n",
    "    main_domain = '.'.join(domain_parts[-2:])\n",
    "    full_domain = subdomain + '.' + main_domain if subdomain else main_domain\n",
    "    return full_domain\n",
    "\n",
    "assert extract_domain(\"https://cooking.nytimes.com/recipes/1024292-classic-mentaiko-spaghetti?pgType=homepage\") == \"cooking.nytimes.com\"\n"
   ]
  },
  {
   "cell_type": "code",
   "execution_count": 72,
   "metadata": {},
   "outputs": [],
   "source": [
    "def extract_from_web(url):\n",
    "    \"\"\"Returns the text of a webpage as a string\"\"\"\n",
    "    r = requests.get(url)\n",
    "    soup = bs(r.content, 'html.parser')\n",
    "\n",
    "    # matches cooking.nytimes.com\n",
    "    domain = extract_domain(url)\n",
    "    print(domain)\n",
    "    if domain == \"cooking.nytimes.com\":\n",
    "        ingredients = soup.find('div', class_='ingredients_ingredients__qAcSs')\n",
    "        ingredients = ingredients.find_all('li')\n",
    "        ingredients = [\" \".join([sp.text for sp in ing.find_all('span')]) for ing in ingredients]\n",
    "\n",
    "        steps = soup.find('div', class_='recipebody_prep-block__cpC8w')\n",
    "        steps = steps.find_all('li')\n",
    "        steps = [\" \".join([p.text for p in step.find_all('p')]) for step in steps]\n",
    "\n",
    "        summary = soup.find('div', class_=\"pantry--body topnote_topnoteParagraphs__8kAAN\").text\n",
    "        return (summary + \"The ingredients are \" + ','.join(ingredients) + \"and the steps are \" +  ','.join(steps))\n",
    "    \n",
    "    elif domain == \"www.seriouseats.com\":\n",
    "        ingredients = soup.find('section', class_='section--ingredients')\n",
    "        ingredients = ingredients.find_all('li')\n",
    "        ingredients = [ing.get_text().strip() for ing in ingredients]\n",
    "        \n",
    "        steps = soup.find('section', id=\"section--instructions_1-0\")\n",
    "        steps = steps.find_all('li')\n",
    "        steps = [step.get_text().strip() for step in steps]\n",
    "\n",
    "\n",
    "        summary = soup.find('div', id=\"article__header--project_1-0\")\n",
    "        summary = summary.find_all('p')\n",
    "        summary = \"\\n\".join([p.get_text().strip() for p in summary])\n",
    "\n",
    "        return (summary + \"The ingredients are \" +  ','.join(ingredients)  + \"and the steps are \" + str(steps))\n",
    "    \n",
    "\n",
    "    if soup.article:\n",
    "        soup = soup.article\n",
    "    elif soup.main:\n",
    "        soup = soup.main\n",
    "\n",
    "    ingredient_tags = soup.find(lambda tag: tag.text.lower() in ('ingredients', 'ingredients', 'software'))\n",
    "\n",
    "    steps_tag = soup.find(lambda tag:  tag.text.lower() in ('preparation', 'steps', 'method', 'directions', 'instructions'))    # 'Modus operandi'\n",
    "\n",
    "    if steps_tag:\n",
    "        # Grab the parent element\n",
    "        parent_element = steps_tag.parent\n",
    "\n",
    "        # Do something with the parent element\n",
    "        \n",
    "        # Come back to this\n",
    "        return(parent_element.text)\n",
    "\n",
    "\n",
    "    # return soup.get_text()"
   ]
  },
  {
   "cell_type": "code",
   "execution_count": 70,
   "metadata": {},
   "outputs": [
    {
     "name": "stdout",
     "output_type": "stream",
     "text": [
      "www.bonappetit.com\n"
     ]
    }
   ],
   "source": [
    "# print(extract_from_web(\"https://cooking.nytimes.com/recipes/1021961-charleston-red-rice\"))\n",
    "# print(extract_from_web(\"https://www.seriouseats.com/miyeok-guk-korean-seaweed-and-brisket-soup\"))\n",
    "text = extract_from_web(\"https://www.bonappetit.com/recipe/smash-burger-alfresco\")"
   ]
  },
  {
   "cell_type": "code",
   "execution_count": 73,
   "metadata": {},
   "outputs": [
    {
     "name": "stdout",
     "output_type": "stream",
     "text": [
      "cooking.nytimes.com\n",
      "A Lowcountry favorite that likely descended from West African jollof rice, this classic tomato and rice dish is also sometimes called Carolina red rice – or simply red rice. It often contains sausage, but this version, inspired by how the chef Millie Peartree’s mother, Millie Bell, used to make it, relies on bacon for its depth. (Still, if you’d like to add sausage, just let it sear with the vegetables in Step 3.) To start, the “holy trinity” (bell pepper, onion and celery) is cooked in the bacon fat, infusing the cooking liquid. Then, the rice is baked to ensure it’s perfectly cooked. Serve this alongside baked chicken or ham, green beans or collard greens, for a full, satisfying meal.The ingredients are Nonstick cooking spray,6 bacon slices,1 medium Vidalia or other sweet, Spanish or yellow onion, chopped,2 celery ribs, chopped,1 large green bell pepper, chopped,1 teaspoon kosher salt, plus more to taste,2 garlic cloves, minced,2 cups long-grain or Carolina gold rice, rinsed until water runs clear,1 (14-ounce) can tomato purée,1½ cups chicken stock or water, plus more as needed,1 tablespoon hot sauce,1 teaspoon Cajun seasoning,1 teaspoon granulated sugar,½ teaspoon black pepper,Pinch of ground cayenne,Parsley leaves, for garnishand the steps are Heat oven to 350 degrees and coat a 9-by-13-inch baking dish with cooking spray.,In a large (12-inch) heavy skillet over medium heat, fry the bacon until crisp, about 3 minutes per side. Remove the bacon to paper towels to drain, leaving behind drippings. Crumble the bacon and set aside.,In the same skillet, add the chopped onion, celery, bell pepper and 1 teaspoon salt, and sauté until the onion is translucent, about 5 minutes. Add garlic and sauté until fragrant, another 30 seconds.,To the skillet, add the rinsed rice. Stir and toast the rice for 30 seconds. Add the crumbled bacon, tomato purée, stock, hot sauce, Cajun seasoning, sugar, pepper and cayenne.,Bring the rice and vegetables to a boil, then reduce the heat to low and simmer for about 5 minutes. Taste and add salt, if needed.,Carefully transfer ingredients to the greased baking dish. Cover the baking dish tightly with foil, and bake until the rice is tender, about 40 to 50 minutes. Check the rice after about 30 minutes to make sure all the liquid is absorbed, and the rice is tender. (If it's too dry or not cooked all the way through, add a few tablespoons of water or stock at a time, if necessary, and cook a little longer.) Fluff with a fork before serving and garnish with parsley leaves.\n"
     ]
    }
   ],
   "source": [
    "print(extract_from_web(\"https://cooking.nytimes.com/recipes/1021961-charleston-red-rice\"))"
   ]
  },
  {
   "cell_type": "code",
   "execution_count": 56,
   "metadata": {},
   "outputs": [
    {
     "name": "stdout",
     "output_type": "stream",
     "text": [
      "(['1 ounce (30g) dried\\xa0miyeok\\xa0seaweed (also sold under the Japanese name\\xa0wakame)', '3 whole medium cloves garlic plus 3 finely minced medium cloves garlic, divided', 'One 1-inch piece fresh ginger (about 1/3 ounce; 10g), peeled', '1/2 of a medium white onion (about 3 ounces; 85g for the half onion)', '12 ounces (350g) beef brisket, washed in cold water', '2 tablespoons (30ml) Joseon ganjang (Korean soup soy sauce; see notes), divided', 'Kosher or\\xa0sea salt'], ['In a medium bowl, cover seaweed with at least 3 inches cold water and let stand at room temperature until fully softened and hydrated, about 2 hours.', 'Meanwhile, in a Dutch oven or pot, combine whole garlic cloves, ginger, onion, and brisket with 1 1/2 quarts (1 1/2L) cold water and bring to a boil over high heat. Lower heat to maintain a gentle simmer and cook, covered, until brisket is tender and broth is slightly cloudy, about 2 hours. Using a slotted spoon, remove and discard garlic cloves, ginger, and onion from broth.', 'Transfer brisket to a work surface and allow to cool slightly, then slice across the grain into bite-size pieces. Transfer brisket to a small bowl and toss well with 1 tablespoon soy sauce and remaining 3 cloves minced garlic. Set aside.', 'Drain seaweed and squeeze well to remove excess water. Transfer to work surface and roughly chop into bite-size pieces.', 'Return broth to a simmer and add seaweed and seasoned brisket. If the proportion of liquid to solids is too low for your taste, you can top up with water and return to a simmer. Add remaining 1 tablespoon soy sauce and simmer until seaweed is tender, about 30 minutes. Season to taste with salt.', 'Ladle soup into bowls and serve alongside hot rice and any banchan (side dishes) of your choosing.'], \"Miyeok-guk, a seaweed soup rich with beef brisket and a small but flavorful assortment of aromatics, is a very special dish for Koreans. Because it’s so rich with iron, women often eat it after giving birth. It's also a must-have soup on your birthday, the kind of thing your mom prepares with love to show you how much she cares about you.\\nThese days, there are plenty of quick and easy recipes for miyeok-guk, but we want to share a version that takes a little longer to make, but has better and deeper layers of flavor from the slow simmering of beef and aromatics.\\nDon't let the small amount of dried seaweed fool you: It swells considerably as it soaks.\\nWe recommend serving the soup alongside a bowl of freshly made short-grain rice and some banchan (side dishes) of your choice, such as cabbage or radish kimchi, sweet soy-glazed potatoes, marinated cucumbers, and/or marinated spinach.\")\n"
     ]
    }
   ],
   "source": [
    "print(extract_from_web(\"https://www.seriouseats.com/miyeok-guk-korean-seaweed-and-brisket-soup\"))"
   ]
  },
  {
   "cell_type": "code",
   "execution_count": 49,
   "metadata": {},
   "outputs": [
    {
     "data": {
      "text/plain": [
       "'<div class=\"InstructionsWrapper-hZXqPx RmryN\" data-testid=\"InstructionsWrapper\"><h2 class=\"BaseWrap-sc-gjQpdd BaseText-ewhhUZ InstructionListHed-dYZnS iUEiRd kHLSxy eeiAwJ\">Preparation</h2><ol class=\"InstructionGroupWrapper-bqiIwp ccobUj\"><li class=\"InstructionListWrapper-dcpygI bVOrOO\"><h4 class=\"BaseWrap-sc-gjQpdd BaseText-ewhhUZ InstructionHed-cTDCYA InstructionHedSmall-kvDvLP iwCByY kpzQYu ssMUV\">Step 1</h4><p>Prepare a grill for high heat. Place a cast-iron griddle, flat side up, on grate; heat until very hot, at least 20 minutes.</p><h4 class=\"BaseWrap-sc-gjQpdd BaseText-ewhhUZ InstructionHed-cTDCYA InstructionHedSmall-kvDvLP iwCByY kpzQYu ssMUV\">Step 2</h4><p>Mix together pickles, mayonnaise, ketchup, adobo sauce, and ½ tsp. salt in a medium bowl; set special sauce aside.</p><h4 class=\"BaseWrap-sc-gjQpdd BaseText-ewhhUZ InstructionHed-cTDCYA InstructionHedSmall-kvDvLP iwCByY kpzQYu ssMUV\">Step 3</h4><p>Divide beef into eight 3-oz. portions (don’t form into patties). Place 4 portions between 2 sheets of parchment paper, spacing 6\" apart, and, using a meat mallet or skillet, firmly smash to create thin patties, about 5\" across. Transfer to a baking sheet. Repeat with remaining portions and fresh parchment paper.</p><h4 class=\"BaseWrap-sc-gjQpdd BaseText-ewhhUZ InstructionHed-cTDCYA InstructionHedSmall-kvDvLP iwCByY kpzQYu ssMUV\">Step 4</h4><p>Wrap all the buns together in a large sheet of foil to make a packet (this will keep buns soft and from getting too toasted on the grill). Place packet on grate and grill, turning once, until buns are warmed through, about 1 minute. Spread sauce over cut sides of buns. Place 3–4 pieces of lettuce on bottom buns and top each with some onion and a tomato slice, if using.</p><h4 class=\"BaseWrap-sc-gjQpdd BaseText-ewhhUZ InstructionHed-cTDCYA InstructionHedSmall-kvDvLP iwCByY kpzQYu ssMUV\">Step 5</h4><p>Drizzle oil over griddle and use paper towels to evenly coat surface. The oil needs to be hot; you should see smoke almost instantly. Season patties lightly with salt. Place 4 on griddle, seasoned side down, and season top sides lightly with salt. Cook, undisturbed, until outer edges are brown and undersides are very crisp, about 2 minutes. Flip and place a slice of cheese on top of each patty. Cook until cheese is melted, about 30 seconds. Transfer patties to buns with toppings, stacking 2 patties on each bun. Repeat with remaining 4 patties, scraping off any cheese stuck to griddle in between batches.</p></li></ol></div>'"
      ]
     },
     "execution_count": 49,
     "metadata": {},
     "output_type": "execute_result"
    }
   ],
   "source": [
    "str(text)"
   ]
  },
  {
   "cell_type": "code",
   "execution_count": 52,
   "metadata": {},
   "outputs": [],
   "source": [
    "def convert_random_stuff_to_transcript(random_stuff: str):\n",
    "    functions = [\n",
    "        {\n",
    "            \"name\": \"extract_transcript from string\",\n",
    "            \"description\": \"Given a mungled htmk file, convert this into a readable cooking transcript.\",\n",
    "            \"parameters\": {\n",
    "                \"type\": \"object\",\n",
    "                    \"string_output\": {\n",
    "                        \"\": {\n",
    "                            \"type\": \"string\",\n",
    "                            \"description\": \"What does this look like as a string?\"\n",
    "                        },\n",
    "            },\n",
    "            \"required\": [\"string_output\"],\n",
    "\n",
    "        }\n",
    "    }\n",
    "    ]\n",
    "    messages = [\n",
    "        {\"role\": \"system\", \"content\": \"You are a helpful assistant that reads this mungled html file, and converts it into a cooking transcript\"},\n",
    "        {\"role\": \"user\", \"content\": 'Here is the mungled html file: ' + random_stuff}\n",
    "    ]\n",
    "    response = openai.ChatCompletion.create(\n",
    "        # model=\"gpt-4-0613\", \n",
    "        model=\"gpt-3.5-turbo-0613\", \n",
    "        functions=functions,\n",
    "        messages=messages,\n",
    "    )\n",
    "\n",
    "    args = response.choices[0].message.function_call.arguments\n",
    "    return args\n"
   ]
  },
  {
   "cell_type": "code",
   "execution_count": null,
   "metadata": {},
   "outputs": [],
   "source": []
  }
 ],
 "metadata": {
  "kernelspec": {
   "display_name": "Python 3 (ipykernel)",
   "language": "python",
   "name": "python3"
  },
  "language_info": {
   "codemirror_mode": {
    "name": "ipython",
    "version": 3
   },
   "file_extension": ".py",
   "mimetype": "text/x-python",
   "name": "python",
   "nbconvert_exporter": "python",
   "pygments_lexer": "ipython3",
   "version": "3.10.9"
  }
 },
 "nbformat": 4,
 "nbformat_minor": 2
}
