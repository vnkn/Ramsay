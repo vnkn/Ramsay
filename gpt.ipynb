{
 "cells": [
  {
   "cell_type": "code",
   "execution_count": 1,
   "metadata": {},
   "outputs": [],
   "source": [
    "import os\n",
    "import openai\n",
    "from dotenv import load_dotenv\n",
    "from random import sample\n",
    "import json"
   ]
  },
  {
   "cell_type": "code",
   "execution_count": null,
   "metadata": {},
   "outputs": [],
   "source": [
    "load_dotenv()\n",
    "\n",
    "openai.api_key = os.getenv('OPENAI_API_KEY')\n",
    "\n",
    "# print(openai.api_key)"
   ]
  },
  {
   "cell_type": "code",
   "execution_count": 6,
   "metadata": {},
   "outputs": [],
   "source": [
    "def extract_from_yt(transcript: str) -> dict:\n",
    "    functions = [\n",
    "        {\n",
    "            \"name\": \"extract_data_from_transcript\",\n",
    "            \"description\": \"Given the transcript of a YouTube video, extract the given fields.\",\n",
    "            \"parameters\": {\n",
    "                \"type\": \"object\",\n",
    "                    \"properties\": {\n",
    "                        \"vegan\": {\n",
    "                            \"type\": \"boolean\",\n",
    "                            \"description\": \"Is this recipe vegan?\"\n",
    "                        },\n",
    "                        \"appliances\": {\n",
    "                            \"type\": \"array\",\n",
    "                            \"items\": {\n",
    "                                \"type\": \"string\"\n",
    "                            },\n",
    "                            \"description\": \"What are the appliances required?\"\n",
    "                        },\n",
    "                        \"appliance_costs\": {\n",
    "                            \"type\": \"array\",\n",
    "                            \"items\": {\n",
    "                                \"type\": \"integer\"\n",
    "                            },\n",
    "                            \"description\": \"How much does each appliance cost?\"  \n",
    "                        },\n",
    "\n",
    "                        \"ingredients\": {\n",
    "                            \"type\": \"array\",\n",
    "                            \"items\": {\n",
    "                                \"type\": \"string\"\n",
    "                            },\n",
    "                            \"description\": \"What are the ingredients required?\"\n",
    "                        },\n",
    "                        \"ingredient_costs\": {\n",
    "                            \"type\": \"array\",\n",
    "                            \"items\": {\n",
    "                                \"type\": \"integer\"\n",
    "                            },\n",
    "                            \"description\": \"How much does each ingredient cost?\"  \n",
    "                        },\n",
    "                        \"steps\": {\n",
    "                            \"type\": \"array\",\n",
    "                            \"items\": {\n",
    "                                \"type\": \"string\"\n",
    "                            },\n",
    "                            \"description\": \"What are the steps, in chronological ordering?\"\n",
    "                        },\n",
    "                        \"serves\": {\n",
    "                            \"type\": \"integer\",\n",
    "                            \"description\": \"How many people does it serve?\"\n",
    "                        },\n",
    "                        \"time\": {\n",
    "                            \"type\": \"integer\",\n",
    "                            \"description\": \"How long does it take to make?\"\n",
    "                        },\n",
    "                        \"title\": {\n",
    "                            \"type\": \"string\",\n",
    "                            \"description\": \"What is the title of the dish?\"\n",
    "                        },\n",
    "                    },\n",
    "                \"required\": [\"vegan\", \"appliances\", \"appliance_costs\", \"ingredients\", \"ingredient_costs\", \"steps\", \"serves\", \"time\", \"title\"],\n",
    "            },\n",
    "        }\n",
    "    ]\n",
    "\n",
    "    messages = [\n",
    "        {\"role\": \"system\", \"content\": \"You are a helpful assistant that parses a cooking YouTube video transcript, and extracts relevant information.\"},\n",
    "        {\"role\": \"user\", \"content\": 'Here is the transcript: ' + transcript}\n",
    "    ]\n",
    "\n",
    "    response = openai.ChatCompletion.create(\n",
    "        # model=\"gpt-4-0613\", \n",
    "        model=\"gpt-3.5-turbo-0613\", \n",
    "        functions=functions,\n",
    "        messages=messages,\n",
    "    )\n",
    "\n",
    "    args = response.choices[0].message.function_call.arguments\n",
    "    return args"
   ]
  },
  {
   "cell_type": "code",
   "execution_count": 7,
   "metadata": {},
   "outputs": [],
   "source": [
    "example = \"\"\"now the secret behind any great burger of course is the color making sure you've got a nice beautiful color on that burger patty get that pan nice and warm in we go again season it salt and pepper as that starts caramelizing a little touch of butter in there just adds more and more flavor start off high heat turn it down and use the remaining heat in that pan to continue cooking that burger beautifully you can see that the actual pate started to caramelize you only flip burgers once okay have the confidence use the pan let the pan do the work and get that beautiful color in there i'm just going to give that a little baste there so you can see what's happening up and over look at that color touch more butter [Music] and because i've got all that beautiful heat in the pan well i can get my onions in there and beautifully caramelize these onions season the other side the burgers season the onions again fresh cracked pepper and now this whole thing's starting to come together turn over my onions beautiful the flavor and the smell is incredible we're literally cooking the burger two minutes each side i like my burgers just under medium before i put my cheese on i like to season the burger again cheese on season the cheese and again one more on top and then from there [Music] a touch of fresh pepper how do we melt that cheese properly first of all turn off the heat get your lid stick that on top and that will help melt that cheese beautifully set that to the side and now for the exciting part this is where we start to build this beautiful burger my buns are being toasted okay so that's going to give me a little bit more crispiness on there as well first of all a little smear of mayonnaise soft butter lettuce just don't slice it just crack that open let that sit nicely again layer it up a touch of salt touch a pepper it goes a long way tomato one i'm going to get a little touch of mustard a beautiful dijon mustard and just rub that on the top part of my bun and then from there i need some acid i've got my pickles now we are ready lid off look at that cheese it's melted beautifully you can still hear that cook taking place inside the pan that's going to sit on top and then finally these onions look at them caramelized beautifully i just love the flavor i just like to hit that with a touch fresh pepper and then bang now come on that is a burger to die for\"\"\"\n",
    "example2 = \"\"\"A Lowcountry favorite that likely descended from West African jollof rice, this classic tomato and rice dish is also sometimes called Carolina red rice – or simply red rice. It often contains sausage, but this version, inspired by how the chef Millie Peartree’s mother, Millie Bell, used to make it, relies on bacon for its depth. (Still, if you’d like to add sausage, just let it sear with the vegetables in Step 3.) To start, the “holy trinity” (bell pepper, onion and celery) is cooked in the bacon fat, infusing the cooking liquid. Then, the rice is baked to ensure it’s perfectly cooked. Serve this alongside baked chicken or ham, green beans or collard greens, for a full, satisfying meal.The ingredients are Nonstick cooking spray,6 bacon slices,1 medium Vidalia or other sweet, Spanish or yellow onion, chopped,2 celery ribs, chopped,1 large green bell pepper, chopped,1 teaspoon kosher salt, plus more to taste,2 garlic cloves, minced,2 cups long-grain or Carolina gold rice, rinsed until water runs clear,1 (14-ounce) can tomato purée,1½ cups chicken stock or water, plus more as needed,1 tablespoon hot sauce,1 teaspoon Cajun seasoning,1 teaspoon granulated sugar,½ teaspoon black pepper,Pinch of ground cayenne,Parsley leaves, for garnishand the steps are Heat oven to 350 degrees and coat a 9-by-13-inch baking dish with cooking spray.,In a large (12-inch) heavy skillet over medium heat, fry the bacon until crisp, about 3 minutes per side. Remove the bacon to paper towels to drain, leaving behind drippings. Crumble the bacon and set aside.,In the same skillet, add the chopped onion, celery, bell pepper and 1 teaspoon salt, and sauté until the onion is translucent, about 5 minutes. Add garlic and sauté until fragrant, another 30 seconds.,To the skillet, add the rinsed rice. Stir and toast the rice for 30 seconds. Add the crumbled bacon, tomato purée, stock, hot sauce, Cajun seasoning, sugar, pepper and cayenne.,Bring the rice and vegetables to a boil, then reduce the heat to low and simmer for about 5 minutes. Taste and add salt, if needed.,Carefully transfer ingredients to the greased baking dish. Cover the baking dish tightly with foil, and bake until the rice is tender, about 40 to 50 minutes. Check the rice after about 30 minutes to make sure all the liquid is absorbed, and the rice is tender. (If it's too dry or not cooked all the way through, add a few tablespoons of water or stock at a time, if necessary, and cook a little longer.) Fluff with a fork before serving and garnish with parsley leaves.\"\"\""
   ]
  },
  {
   "cell_type": "code",
   "execution_count": 8,
   "metadata": {},
   "outputs": [
    {
     "name": "stdout",
     "output_type": "stream",
     "text": [
      "{\n",
      "\"vegan\": false,\n",
      "\"appliances\": [\"oven\", \"9-by-13-inch baking dish\", \"large heavy skillet\", \"stove\"],\n",
      "\"appliance_costs\": [],\n",
      "\"ingredients\": [\"Nonstick cooking spray\",\"6 bacon slices\",\"1 medium Vidalia or other sweet, Spanish or yellow onion, chopped\",\"2 celery ribs, chopped\",\"1 large green bell pepper, chopped\",\"1 teaspoon kosher salt, plus more to taste\",\"2 garlic cloves, minced\",\"2 cups long-grain or Carolina gold rice, rinsed until water runs clear\",\"1 (14-ounce) can tomato purée\",\"1½ cups chicken stock or water, plus more as needed\",\"1 tablespoon hot sauce\",\"1 teaspoon Cajun seasoning\",\"1 teaspoon granulated sugar\",\"½ teaspoon black pepper\",\"Pinch of ground cayenne\",\"Parsley leaves, for garnish\"],\n",
      "\"ingredient_costs\": [],\n",
      "\"steps\": [\"Heat oven to 350 degrees and coat a 9-by-13-inch baking dish with cooking spray.\",\n",
      "\"In a large (12-inch) heavy skillet over medium heat, fry the bacon until crisp, about 3 minutes per side. Remove the bacon to paper towels to drain, leaving behind drippings. Crumble the bacon and set aside.\",\n",
      "\"In the same skillet, add the chopped onion, celery, bell pepper and 1 teaspoon salt, and sauté until the onion is translucent, about 5 minutes. Add garlic and sauté until fragrant, another 30 seconds.\",\n",
      "\"To the skillet, add the rinsed rice. Stir and toast the rice for 30 seconds. Add the crumbled bacon, tomato purée, stock, hot sauce, Cajun seasoning, sugar, pepper and cayenne.\",\n",
      "\"Bring the rice and vegetables to a boil, then reduce the heat to low and simmer for about 5 minutes. Taste and add salt, if needed.\",\n",
      "\"Carefully transfer ingredients to the greased baking dish. Cover the baking dish tightly with foil, and bake until the rice is tender, about 40 to 50 minutes. Check the rice after about 30 minutes to make sure all the liquid is absorbed, and the rice is tender. (If it's too dry or not cooked all the way through, add a few tablespoons of water or stock at a time, if necessary, and cook a little longer.) Fluff with a fork before serving and garnish with parsley leaves.\"],\n",
      "\"serves\": 4,\n",
      "\"time\": 90,\n",
      "\"title\": \"Tomato and Rice Dish\"\n",
      "}\n"
     ]
    }
   ],
   "source": [
    "outputs = extract_from_yt(example2)\n",
    "print(outputs)"
   ]
  },
  {
   "cell_type": "code",
   "execution_count": 217,
   "metadata": {},
   "outputs": [
    {
     "data": {
      "text/plain": [
       "{'ingredient_list': ['burger patty',\n",
       "  'salt',\n",
       "  'pepper',\n",
       "  'butter',\n",
       "  'onions',\n",
       "  'cheese',\n",
       "  'mayonnaise',\n",
       "  'lettuce',\n",
       "  'tomato',\n",
       "  'dijon mustard',\n",
       "  'pickles'],\n",
       " 'steps': ['Get the pan nice and warm',\n",
       "  'Season the burger patty with salt and pepper',\n",
       "  'Add butter to the pan',\n",
       "  'Caramelize the burger patty',\n",
       "  'Baste the burger patty with butter',\n",
       "  'Caramelize the onions in the same pan',\n",
       "  'Season the onions with salt and pepper',\n",
       "  'Cook the burger patty for 2 minutes on each side',\n",
       "  'Season the burger patty with more salt and pepper',\n",
       "  'Place cheese on the burger patty and melt it with a lid',\n",
       "  'Toast the buns',\n",
       "  'Spread mayonnaise on the buns',\n",
       "  'Layer the burger with lettuce, tomato, mustard, pickles, onions, and cheese',\n",
       "  'Serve and enjoy!']}"
      ]
     },
     "execution_count": 217,
     "metadata": {},
     "output_type": "execute_result"
    }
   ],
   "source": [
    "{\n",
    "  \"ingredient_list\": [\n",
    "    \"burger patty\",\n",
    "    \"salt\",\n",
    "    \"pepper\",\n",
    "    \"butter\",\n",
    "    \"onions\",\n",
    "    \"cheese\",\n",
    "    \"mayonnaise\",\n",
    "    \"lettuce\",\n",
    "    \"tomato\",\n",
    "    \"dijon mustard\",\n",
    "    \"pickles\"\n",
    "  ],\n",
    "  \"steps\": [\n",
    "    \"Get the pan nice and warm\",\n",
    "    \"Season the burger patty with salt and pepper\",\n",
    "    \"Add butter to the pan\",\n",
    "    \"Caramelize the burger patty\",\n",
    "    \"Baste the burger patty with butter\",\n",
    "    \"Caramelize the onions in the same pan\",\n",
    "    \"Season the onions with salt and pepper\",\n",
    "    \"Cook the burger patty for 2 minutes on each side\",\n",
    "    \"Season the burger patty with more salt and pepper\",\n",
    "    \"Place cheese on the burger patty and melt it with a lid\",\n",
    "    \"Toast the buns\",\n",
    "    \"Spread mayonnaise on the buns\",\n",
    "    \"Layer the burger with lettuce, tomato, mustard, pickles, onions, and cheese\",\n",
    "    \"Serve and enjoy!\"\n",
    "  ]\n",
    "}"
   ]
  },
  {
   "cell_type": "code",
   "execution_count": null,
   "metadata": {},
   "outputs": [],
   "source": [
    "html_output = \"\"\"'<div class=\"InstructionsWrapper-hZXqPx RmryN\" data-testid=\"InstructionsWrapper\"><h2 class=\"BaseWrap-sc-gjQpdd BaseText-ewhhUZ InstructionListHed-dYZnS iUEiRd kHLSxy eeiAwJ\">Preparation</h2><ol class=\"InstructionGroupWrapper-bqiIwp ccobUj\"><li class=\"InstructionListWrapper-dcpygI bVOrOO\"><h4 class=\"BaseWrap-sc-gjQpdd BaseText-ewhhUZ InstructionHed-cTDCYA InstructionHedSmall-kvDvLP iwCByY kpzQYu ssMUV\">Step 1</h4><p>Prepare a grill for high heat. Place a cast-iron griddle, flat side up, on grate; heat until very hot, at least 20 minutes.</p><h4 class=\"BaseWrap-sc-gjQpdd BaseText-ewhhUZ InstructionHed-cTDCYA InstructionHedSmall-kvDvLP iwCByY kpzQYu ssMUV\">Step 2</h4><p>Mix together pickles, mayonnaise, ketchup, adobo sauce, and ½ tsp. salt in a medium bowl; set special sauce aside.</p><h4 class=\"BaseWrap-sc-gjQpdd BaseText-ewhhUZ InstructionHed-cTDCYA InstructionHedSmall-kvDvLP iwCByY kpzQYu ssMUV\">Step 3</h4><p>Divide beef into eight 3-oz. portions (don’t form into patties). Place 4 portions between 2 sheets of parchment paper, spacing 6\" apart, and, using a meat mallet or skillet, firmly smash to create thin patties, about 5\" across. Transfer to a baking sheet. Repeat with remaining portions and fresh parchment paper.</p><h4 class=\"BaseWrap-sc-gjQpdd BaseText-ewhhUZ InstructionHed-cTDCYA InstructionHedSmall-kvDvLP iwCByY kpzQYu ssMUV\">Step 4</h4><p>Wrap all the buns together in a large sheet of foil to make a packet (this will keep buns soft and from getting too toasted on the grill). Place packet on grate and grill, turning once, until buns are warmed through, about 1 minute. Spread sauce over cut sides of buns. Place 3–4 pieces of lettuce on bottom buns and top each with some onion and a tomato slice, if using.</p><h4 class=\"BaseWrap-sc-gjQpdd BaseText-ewhhUZ InstructionHed-cTDCYA InstructionHedSmall-kvDvLP iwCByY kpzQYu ssMUV\">Step 5</h4><p>Drizzle oil over griddle and use paper towels to evenly coat surface. The oil needs to be hot; you should see smoke almost instantly. Season patties lightly with salt. Place 4 on griddle, seasoned side down, and season top sides lightly with salt. Cook, undisturbed, until outer edges are brown and undersides are very crisp, about 2 minutes. Flip and place a slice of cheese on top of each patty. Cook until cheese is melted, about 30 seconds. Transfer patties to buns with toppings, stacking 2 patties on each bun. Repeat with remaining 4 patties, scraping off any cheese stuck to griddle in between batches.</p></li></ol></div>'\"\"\""
   ]
  },
  {
   "attachments": {},
   "cell_type": "markdown",
   "metadata": {},
   "source": [
    "# Example Data\n",
    "\n",
    "### Input 1:\n",
    " Budget (int): $20\n",
    " Link (str): https://www.youtube.com/watch?v=sv3TXMSv6Lw&ab_channel=Tasty \n",
    "\n",
    "### Output 1: \n",
    "Return: List of Appliances, Ingredients Necessary Dict<list<String>>\n",
    "\n",
    "Example: {'Ingredients': ['tomato sauce', 'cheese' 'spinach'] 'Appliances': ['pizza_cutter', 'oven']}\n",
    "\n",
    "### Input 2: What I have: \n",
    "\n",
    "Example:  {'Ingredients': ['Cheese', 'Spinach'] 'Appliances': ['oven']}\n",
    "\n",
    "### Output 2: What to buy  \n",
    "Return: Total Cost, Dict of Dicts of Items / Costs\n",
    "\n",
    "Example:  {'Ingredients': {'Item': 'Tomato Sauce', 'Cost': 5, 'Link': 'http://instacart.com/l'}  'Appliances':  {'Item': 'Oven', 'Cost': 7, 'Link': 'http://instacart.com/nin'} }\n",
    "\n",
    "Output 3: Scoring:\n",
    "Returns whether this is within the budget. If so, it scores the various youtube links passed based on rating of the youtube video, with the tiebreaker being cost."
   ]
  },
  {
   "cell_type": "code",
   "execution_count": 218,
   "metadata": {},
   "outputs": [],
   "source": [
    "# Performing calculations for example\n",
    "def get_information_output(transcript):\n",
    "    output = extract_from_yt(transcript)\n",
    "    return json.loads(output)\n",
    "information_output = get_information_output(example)\n",
    "\n"
   ]
  },
  {
   "cell_type": "code",
   "execution_count": 219,
   "metadata": {},
   "outputs": [],
   "source": [
    "def get_user_input(information_output):\n",
    "    # Fill this out with actual stuff from the pyflask app. \n",
    "    ingredients = information_output['ingredients']\n",
    "    appliances = information_output['appliances']\n",
    "    \n",
    "    ingredients_selected = ingredients[0:int(len(ingredients)/2)]\n",
    "    appliances_selected  = appliances[0:int(len(appliances)/2)]\n",
    "    budget =  input(\"Enter the budget: \")\n",
    "\n",
    "    return ingredients_selected, appliances_selected, budget"
   ]
  },
  {
   "cell_type": "code",
   "execution_count": 229,
   "metadata": {},
   "outputs": [],
   "source": [
    "def process_user_input_for_budget(information_output, ingredients_selected, appliances_selected, budget):\n",
    "    ingredients = information_output['ingredients']\n",
    "    appliances = information_output['appliances']\n",
    "    ingredient_costs = information_output['ingredient_costs']\n",
    "    appliances = information_output['appliances']\n",
    "    appliance_costs = information_output['appliance_costs']\n",
    "    ingredients_list = [(ingredients[i], ingredient_costs[i]) for i, e in enumerate(ingredients) if e not in ingredients_selected]\n",
    "    ingredients_costs_list = [ingredient_costs[i] for i, e in enumerate(ingredients) if e not in ingredients_selected]\n",
    "    total_ingredients_cost = sum(ingredients_costs_list)\n",
    "    \n",
    "    appliances_list = [(appliances[i], appliance_costs[i]) for i, e in enumerate(appliances) if e not in appliances_selected]\n",
    "    appliances_costs_list = [appliance_costs[i] for i, e in enumerate(appliances) if e not in appliances_selected]\n",
    "    total_appliances_cost = sum(appliances_costs_list)\n",
    "    within_budget = True \n",
    "    if(total_ingredients_cost + total_appliances_cost > float(budget)):\n",
    "        within_budget = False\n",
    "    results_dict = {'ingredients_list': ingredients_list, \"total_ingredients_cost\": total_ingredients_cost, \"appliances_list\": appliances_list, \"total_appliances_cost\": total_appliances_cost}\n",
    "    return ingredients_list, total_ingredients_cost, appliances_list, total_appliances_cost, within_budget"
   ]
  },
  {
   "cell_type": "code",
   "execution_count": 230,
   "metadata": {},
   "outputs": [
    {
     "name": "stdout",
     "output_type": "stream",
     "text": [
      "Enter the budget: 20\n"
     ]
    },
    {
     "data": {
      "text/plain": [
       "([('cheese', 2),\n",
       "  ('mayonnaise', 1),\n",
       "  ('butter lettuce', 1),\n",
       "  ('tomato', 1),\n",
       "  ('dijon mustard', 2),\n",
       "  ('pickles', 1)],\n",
       " 8,\n",
       " [('lid', 20)],\n",
       " 20,\n",
       " False)"
      ]
     },
     "execution_count": 230,
     "metadata": {},
     "output_type": "execute_result"
    }
   ],
   "source": [
    "ingredients_selected, appliances_selected,budget = get_user_input(information_output)\n",
    "process_user_input_for_budget(information_output, ingredients_selected, appliances_selected, budget)"
   ]
  },
  {
   "cell_type": "code",
   "execution_count": 222,
   "metadata": {},
   "outputs": [
    {
     "data": {
      "text/plain": [
       "5.5"
      ]
     },
     "execution_count": 222,
     "metadata": {},
     "output_type": "execute_result"
    }
   ],
   "source": [
    "len(ingredients)/2"
   ]
  },
  {
   "cell_type": "code",
   "execution_count": 223,
   "metadata": {},
   "outputs": [
    {
     "data": {
      "text/plain": [
       "3"
      ]
     },
     "execution_count": 223,
     "metadata": {},
     "output_type": "execute_result"
    }
   ],
   "source": [
    "sum([1,2])"
   ]
  },
  {
   "cell_type": "code",
   "execution_count": 224,
   "metadata": {},
   "outputs": [
    {
     "data": {
      "text/plain": [
       "{'vegan': False,\n",
       " 'appliances': ['pan', 'lid'],\n",
       " 'appliance_costs': [50, 20],\n",
       " 'ingredients': ['burger patty',\n",
       "  'salt',\n",
       "  'pepper',\n",
       "  'butter',\n",
       "  'onions',\n",
       "  'cheese',\n",
       "  'mayonnaise',\n",
       "  'butter lettuce',\n",
       "  'tomato',\n",
       "  'dijon mustard',\n",
       "  'pickles'],\n",
       " 'ingredient_costs': [2, 1, 1, 2, 1, 2, 1, 1, 1, 2, 1],\n",
       " 'steps': ['Preheat pan and season burger patty with salt and pepper',\n",
       "  'Caramelize the patty in the pan with butter',\n",
       "  'Flip the patty to caramelize the other side',\n",
       "  'Caramelize the onions in the pan',\n",
       "  'Cook the burger patty for 2 minutes on each side',\n",
       "  'Season the patty and add cheese on top',\n",
       "  'Turn off the heat, cover with a lid to melt the cheese',\n",
       "  'Toast the buns and assemble the burger with various toppings',\n",
       "  'Serve the burger'],\n",
       " 'serves': 1}"
      ]
     },
     "execution_count": 224,
     "metadata": {},
     "output_type": "execute_result"
    }
   ],
   "source": [
    "information_output"
   ]
  },
  {
   "attachments": {},
   "cell_type": "markdown",
   "metadata": {},
   "source": [
    "# Appendix"
   ]
  },
  {
   "cell_type": "code",
   "execution_count": 247,
   "metadata": {},
   "outputs": [],
   "source": [
    "def convert_random_stuff_to_transcript(random_stuff: str):\n",
    "    functions = [\n",
    "        {\n",
    "            \"name\": \"extract_transcript from string\",\n",
    "            \"description\": \"Given a mungled html file, convert this into a readable cooking transcript.\",\n",
    "            \"parameters\": {\n",
    "                \"type\": \"object\",\n",
    "                    \"string_output\": {\n",
    "                        \"\": {\n",
    "                            \"type\": \"string\",\n",
    "                            \"description\": \"What does this look like as a string?\"\n",
    "                        },\n",
    "            },\n",
    "            \"required\": [\"string_output\"],\n",
    "\n",
    "        }\n",
    "    }\n",
    "    ]\n",
    "    messages = [\n",
    "        {\"role\": \"system\", \"content\": \"You are a helpful assistant that reads this mungled html file, and converts it into a cooking transcript\"},\n",
    "        {\"role\": \"user\", \"content\": 'Here is the mungled html file: ' + random_stuff}\n",
    "    ]\n",
    "    response = openai.ChatCompletion.create(\n",
    "        # model=\"gpt-4-0613\", \n",
    "        model=\"gpt-3.5-turbo-0613\", \n",
    "        functions=functions,\n",
    "        messages=messages,\n",
    "    )\n",
    "\n",
    "    args = response.choices[0].message.function_call.arguments\n",
    "    return args\n",
    "        "
   ]
  },
  {
   "cell_type": "code",
   "execution_count": null,
   "metadata": {},
   "outputs": [],
   "source": []
  }
 ],
 "metadata": {
  "kernelspec": {
   "display_name": "Python 3 (ipykernel)",
   "language": "python",
   "name": "python3"
  },
  "language_info": {
   "codemirror_mode": {
    "name": "ipython",
    "version": 3
   },
   "file_extension": ".py",
   "mimetype": "text/x-python",
   "name": "python",
   "nbconvert_exporter": "python",
   "pygments_lexer": "ipython3",
   "version": "3.11.0"
  }
 },
 "nbformat": 4,
 "nbformat_minor": 2
}
