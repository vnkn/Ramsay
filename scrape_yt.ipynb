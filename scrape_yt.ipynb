{
 "cells": [
  {
   "cell_type": "code",
   "execution_count": 5,
   "metadata": {},
   "outputs": [],
   "source": [
    "from youtube_transcript_api import YouTubeTranscriptApi\n",
    "from youtube_transcript_api.formatters import TextFormatter\n",
    "import re"
   ]
  },
  {
   "cell_type": "code",
   "execution_count": 4,
   "metadata": {},
   "outputs": [],
   "source": [
    "def extract_video_id(url):\n",
    "    pattern = r\"(?:youtu\\.be\\/|youtube\\.com\\/(?:embed\\/|v\\/|watch\\?v=|watch\\?.+&v=))([^?&\\/]+)\"\n",
    "    match = re.search(pattern, url)\n",
    "    if match:\n",
    "        return match.group(1)\n",
    "    else:\n",
    "        return None"
   ]
  },
  {
   "cell_type": "code",
   "execution_count": 12,
   "metadata": {},
   "outputs": [],
   "source": [
    "\n",
    "def get_transcript(url: str):\n",
    "    id = extract_video_id(url)\n",
    "    transcript = YouTubeTranscriptApi.get_transcript(id)\n",
    "    \n",
    "    formatter = TextFormatter()\n",
    "    text = formatter.format_transcript(transcript)\n",
    "    text = text.replace('\\n', ' ')\n",
    "    return text"
   ]
  },
  {
   "cell_type": "code",
   "execution_count": 13,
   "metadata": {},
   "outputs": [
    {
     "name": "stdout",
     "output_type": "stream",
     "text": [
      "now the secret behind any great burger of course is the color making sure you've got a nice beautiful color on that burger patty get that pan nice and warm in we go again season it salt and pepper as that starts caramelizing a little touch of butter in there just adds more and more flavor start off high heat turn it down and use the remaining heat in that pan to continue cooking that burger beautifully you can see that the actual pate started to caramelize you only flip burgers once okay have the confidence use the pan let the pan do the work and get that beautiful color in there i'm just going to give that a little baste there so you can see what's happening up and over look at that color touch more butter [Music] and because i've got all that beautiful heat in the pan well i can get my onions in there and beautifully caramelize these onions season the other side the burgers season the onions again fresh cracked pepper and now this whole thing's starting to come together turn over my onions beautiful the flavor and the smell is incredible we're literally cooking the burger two minutes each side i like my burgers just under medium before i put my cheese on i like to season the burger again cheese on season the cheese and again one more on top and then from there [Music] a touch of fresh pepper how do we melt that cheese properly first of all turn off the heat get your lid stick that on top and that will help melt that cheese beautifully set that to the side and now for the exciting part this is where we start to build this beautiful burger my buns are being toasted okay so that's going to give me a little bit more crispiness on there as well first of all a little smear of mayonnaise soft butter lettuce just don't slice it just crack that open let that sit nicely again layer it up a touch of salt touch a pepper it goes a long way tomato one i'm going to get a little touch of mustard a beautiful dijon mustard and just rub that on the top part of my bun and then from there i need some acid i've got my pickles now we are ready lid off look at that cheese it's melted beautifully you can still hear that cook taking place inside the pan that's going to sit on top and then finally these onions look at them caramelized beautifully i just love the flavor i just like to hit that with a touch fresh pepper and then bang now come on that is a burger to die for\n"
     ]
    }
   ],
   "source": [
    "print(get_transcript(\"https://www.youtube.com/watch?v=ulhRORJpuBM\"))"
   ]
  },
  {
   "cell_type": "code",
   "execution_count": null,
   "metadata": {},
   "outputs": [],
   "source": []
  }
 ],
 "metadata": {
  "kernelspec": {
   "display_name": ".venv",
   "language": "python",
   "name": "python3"
  },
  "language_info": {
   "codemirror_mode": {
    "name": "ipython",
    "version": 3
   },
   "file_extension": ".py",
   "mimetype": "text/x-python",
   "name": "python",
   "nbconvert_exporter": "python",
   "pygments_lexer": "ipython3",
   "version": "3.11.0b4"
  },
  "orig_nbformat": 4
 },
 "nbformat": 4,
 "nbformat_minor": 2
}
